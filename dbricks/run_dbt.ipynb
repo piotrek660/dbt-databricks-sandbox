{
 "cells": [
  {
   "cell_type": "code",
   "execution_count": 0,
   "metadata": {
    "application/vnd.databricks.v1+cell": {
     "cellMetadata": {
      "byteLimit": 2048000,
      "rowLimit": 10000
     },
     "inputWidgets": {},
     "nuid": "31534ee3-109e-4334-9c3b-b0108cba7dbe",
     "showTitle": false,
     "tableResultSettingsMap": {},
     "title": ""
    }
   },
   "outputs": [],
   "source": [
    "%pip install dbt-databricks"
   ]
  },
  {
   "cell_type": "code",
   "execution_count": 0,
   "metadata": {
    "application/vnd.databricks.v1+cell": {
     "cellMetadata": {
      "byteLimit": 2048000,
      "rowLimit": 10000
     },
     "inputWidgets": {},
     "nuid": "1dfed139-d7b6-4459-add7-da6b20ee82fe",
     "showTitle": false,
     "tableResultSettingsMap": {},
     "title": ""
    }
   },
   "outputs": [],
   "source": [
    "from dbt.cli.main import dbtRunner, dbtRunnerResult\n",
    "\n",
    "# initialize\n",
    "dbt = dbtRunner()\n",
    "\n",
    "# create CLI args as a list of strings\n",
    "#cli_args = [\"run\", \"--target\", \"dev\"]\n",
    "cli_args = [\"deps\"]\n",
    "\n",
    "# run the command\n",
    "res: dbtRunnerResult = dbt.invoke(cli_args)\n",
    "\n",
    "# inspect the results\n",
    "for r in res.result:\n",
    "    print(f\"{r.node.name}: {r.status}\")"
   ]
  },
  {
   "cell_type": "code",
   "execution_count": 0,
   "metadata": {
    "application/vnd.databricks.v1+cell": {
     "cellMetadata": {
      "byteLimit": 2048000,
      "rowLimit": 10000
     },
     "inputWidgets": {},
     "nuid": "405e6277-a861-491a-8682-37d282f4a96f",
     "showTitle": false,
     "tableResultSettingsMap": {},
     "title": ""
    }
   },
   "outputs": [],
   "source": [
    "dbt = dbtRunner()\n",
    "\n",
    "cli_args = [\"run\", \"--select\", \"package:dbricks\", \"--target\", \"dev\"]\n",
    "res: dbtRunnerResult = dbt.invoke(cli_args)\n",
    "\n",
    "# inspect the results\n",
    "for r in res.result:\n",
    "    print(f\"{r.node.name}: {r.status}\")"
   ]
  }
 ],
 "metadata": {
  "application/vnd.databricks.v1+notebook": {
   "computePreferences": null,
   "dashboards": [],
   "environmentMetadata": {
    "base_environment": "",
    "environment_version": "3"
   },
   "inputWidgetPreferences": null,
   "language": "python",
   "notebookMetadata": {
    "pythonIndentUnit": 4
   },
   "notebookName": "run_dbt",
   "widgets": {}
  },
  "language_info": {
   "name": "python"
  }
 },
 "nbformat": 4,
 "nbformat_minor": 0
}
